{
 "cells": [
  {
   "cell_type": "code",
   "execution_count": null,
   "id": "e18a9db4",
   "metadata": {},
   "outputs": [],
   "source": [
    "#LaDavion Jones\n",
    "#M03 Lab\n",
    "\n",
    "input_vin = input(\"Enter VIN: \")\n",
    "input_make = input(\"Enter make: \")\n",
    "input_model = input(\"Enter model: \")                 \n",
    "input_color = input(\"Enter color: \")\n",
    "input_doors = int(input(\"Enter number of doors: \"))\n",
    "input_year = int(input(\"Enter Year: \"))\n",
    "input_roof = int(input(\"Enter Type of roof: \"))\n",
    "\n",
    "print(\"input_vin,input_make,input_model,input_color,input_doors,input_year,input_roof\")"
   ]
  },
  {
   "cell_type": "code",
   "execution_count": null,
   "id": "251dd53e",
   "metadata": {},
   "outputs": [],
   "source": []
  },
  {
   "cell_type": "code",
   "execution_count": null,
   "id": "b4ffed1a",
   "metadata": {},
   "outputs": [],
   "source": []
  }
 ],
 "metadata": {
  "kernelspec": {
   "display_name": "Python 3 (ipykernel)",
   "language": "python",
   "name": "python3"
  },
  "language_info": {
   "codemirror_mode": {
    "name": "ipython",
    "version": 3
   },
   "file_extension": ".py",
   "mimetype": "text/x-python",
   "name": "python",
   "nbconvert_exporter": "python",
   "pygments_lexer": "ipython3",
   "version": "3.11.5"
  }
 },
 "nbformat": 4,
 "nbformat_minor": 5
}
